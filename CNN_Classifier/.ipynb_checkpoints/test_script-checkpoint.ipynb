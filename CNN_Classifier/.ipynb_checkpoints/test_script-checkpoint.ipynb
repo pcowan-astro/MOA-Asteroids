{
 "cells": [
  {
   "cell_type": "code",
   "execution_count": 1,
   "metadata": {},
   "outputs": [],
   "source": [
    "#-----------------------------------------------------------------------------------------------------------------\n",
    "# An example of how to instantiate, use, and retrain one of the custom classification models described in\n",
    "# Towards Asteroid Detection in Microlensing Surveys with Deep Learning by Cowan et al.\n",
    "#-----------------------------------------------------------------------------------------------------------------\n",
    "import os\n",
    "import glob\n",
    "import tensorflow as tf\n",
    "from tensorflow.keras.preprocessing.image import ImageDataGenerator\n",
    "\n",
    "import HybridA_Model"
   ]
  },
  {
   "cell_type": "code",
   "execution_count": 2,
   "metadata": {},
   "outputs": [],
   "source": [
    "TEST_DIR = r\"/home/pcowan/Code/Asteroid-Detection/DeepLearning/Classify_128/Data2/Test/\"\n",
    "\n",
    "WEIGHTS_DIR = r\"/home/pcowan/Code/Asteroid-Detection/DeepLearning/Classify_128/publish/weights/MOA15.hdf5\""
   ]
  },
  {
   "cell_type": "code",
   "execution_count": 3,
   "metadata": {},
   "outputs": [
    {
     "name": "stdout",
     "output_type": "stream",
     "text": [
      "Found 2383 images belonging to 2 classes.\n"
     ]
    }
   ],
   "source": [
    "# Model parameters\n",
    "epochs = 50\n",
    "batch_size = 32\n",
    "image_size = 128  \n",
    "image_shape = (image_size,image_size,3)\n",
    "\n",
    "test_datagen = ImageDataGenerator(rescale=1./255)\n",
    "\n",
    "test_generator = test_datagen.flow_from_directory(\n",
    "    TEST_DIR,\n",
    "    batch_size=batch_size,\n",
    "    target_size=(image_size, image_size),\n",
    "    class_mode='binary',\n",
    "    shuffle=False)"
   ]
  },
  {
   "cell_type": "code",
   "execution_count": 4,
   "metadata": {},
   "outputs": [
    {
     "ename": "TypeError",
     "evalue": "__init__() missing 1 required positional argument: 'inputs'",
     "output_type": "error",
     "traceback": [
      "\u001b[0;31m---------------------------------------------------------------------------\u001b[0m",
      "\u001b[0;31mTypeError\u001b[0m                                 Traceback (most recent call last)",
      "\u001b[0;32m<ipython-input-4-c149c9f7daaa>\u001b[0m in \u001b[0;36m<module>\u001b[0;34m\u001b[0m\n\u001b[1;32m      1\u001b[0m \u001b[0;31m#Classification model with 12 stacked convolutional layers\u001b[0m\u001b[0;34m\u001b[0m\u001b[0;34m\u001b[0m\u001b[0;34m\u001b[0m\u001b[0m\n\u001b[0;32m----> 2\u001b[0;31m \u001b[0mhybrid\u001b[0m \u001b[0;34m=\u001b[0m \u001b[0mHybridA_Model\u001b[0m\u001b[0;34m.\u001b[0m\u001b[0mHybridA\u001b[0m\u001b[0;34m(\u001b[0m\u001b[0;34m)\u001b[0m\u001b[0;34m\u001b[0m\u001b[0;34m\u001b[0m\u001b[0m\n\u001b[0m\u001b[1;32m      3\u001b[0m \u001b[0;34m\u001b[0m\u001b[0m\n\u001b[1;32m      4\u001b[0m \u001b[0mhybrid\u001b[0m\u001b[0;34m.\u001b[0m\u001b[0mmodel\u001b[0m\u001b[0;34m(\u001b[0m\u001b[0;34m)\u001b[0m\u001b[0;34m.\u001b[0m\u001b[0msummary\u001b[0m\u001b[0;34m(\u001b[0m\u001b[0;34m)\u001b[0m\u001b[0;34m\u001b[0m\u001b[0;34m\u001b[0m\u001b[0m\n",
      "\u001b[0;31mTypeError\u001b[0m: __init__() missing 1 required positional argument: 'inputs'"
     ]
    }
   ],
   "source": [
    "#Classification model with 12 stacked convolutional layers\n",
    "hybrid = HybridA_Model.HybridA(image_shape)\n",
    "\n",
    "hybrid.model().summary()"
   ]
  },
  {
   "cell_type": "code",
   "execution_count": 5,
   "metadata": {},
   "outputs": [
    {
     "name": "stdout",
     "output_type": "stream",
     "text": [
      "75/75 [==============================] - 8s 59ms/step - loss: 0.0412 - accuracy: 0.9949\n"
     ]
    },
    {
     "data": {
      "text/plain": [
       "[0.38382378220558167, 0.9609735608100891]"
      ]
     },
     "execution_count": 5,
     "metadata": {},
     "output_type": "execute_result"
    }
   ],
   "source": [
    "# Load weights\n",
    "moa15.build(input_shape = (1, 128, 128, 3))\n",
    "moa15.load_weights(WEIGHTS_DIR) \n",
    "\n",
    "# Compile model (required to make predictions)\n",
    "moa15.compile(loss='binary_crossentropy', optimizer='adam', metrics=['accuracy'])\n",
    "\n",
    "# Evaluate\n",
    "moa15.evaluate(test_generator)"
   ]
  },
  {
   "cell_type": "code",
   "execution_count": 6,
   "metadata": {},
   "outputs": [
    {
     "name": "stdout",
     "output_type": "stream",
     "text": [
      "gb5_R5_2456472_1536_128.jpg is 0.00 percent an mp and 100.00 percent not an mp. Score is 0.00.\n",
      "gb5_R5_2456472_1536_256.jpg is 0.00 percent an mp and 100.00 percent not an mp. Score is 0.00.\n",
      "gb5_R5_2456472_1536_384.jpg is 0.00 percent an mp and 100.00 percent not an mp. Score is 0.00.\n",
      "gb5_R5_2456472_640_512.jpg is 0.00 percent an mp and 100.00 percent not an mp. Score is 0.00.\n",
      "gb5_R5_2456472_1408_512.jpg is 0.00 percent an mp and 100.00 percent not an mp. Score is 0.00.\n",
      "gb5_R5_2456472_1536_512.jpg is 0.00 percent an mp and 100.00 percent not an mp. Score is 0.00.\n",
      "gb5_R5_2456472_640_640.jpg is 0.00 percent an mp and 100.00 percent not an mp. Score is 0.00.\n",
      "gb5_R5_2456472_1408_640.jpg is 0.00 percent an mp and 100.00 percent not an mp. Score is 0.00.\n",
      "gb5_R5_2456472_640_768.jpg is 0.00 percent an mp and 100.00 percent not an mp. Score is 0.00.\n",
      "gb5_R5_2456472_1408_768.jpg is 0.00 percent an mp and 100.00 percent not an mp. Score is 0.00.\n",
      "gb5_R5_2456472_640_896.jpg is 0.00 percent an mp and 100.00 percent not an mp. Score is 0.00.\n",
      "gb5_R5_2456472_1408_896.jpg is 0.00 percent an mp and 100.00 percent not an mp. Score is 0.00.\n",
      "gb5_R5_2456472_640_1024.jpg is 0.00 percent an mp and 100.00 percent not an mp. Score is 0.00.\n",
      "gb5_R5_2456472_640_1152.jpg is 0.00 percent an mp and 100.00 percent not an mp. Score is 0.00.\n",
      "gb5_R5_2456472_1152_1152.jpg is 0.00 percent an mp and 100.00 percent not an mp. Score is 0.00.\n",
      "gb5_R5_2456472_1152_1280.jpg is 0.00 percent an mp and 100.00 percent not an mp. Score is 0.00.\n",
      "gb5_R5_2456472_1152_1408.jpg is 0.00 percent an mp and 100.00 percent not an mp. Score is 0.00.\n",
      "gb5_R5_2456472_1152_1536.jpg is 0.00 percent an mp and 100.00 percent not an mp. Score is 0.00.\n",
      "gb5_R5_2456472_128_1664.jpg is 0.00 percent an mp and 100.00 percent not an mp. Score is 0.00.\n",
      "gb5_R5_2456472_1152_1664.jpg is 0.00 percent an mp and 100.00 percent not an mp. Score is 0.00.\n",
      "gb5_R5_2456472_0_1792.jpg is 0.00 percent an mp and 100.00 percent not an mp. Score is 0.00.\n",
      "gb5_R5_2456472_128_1792.jpg is 0.11 percent an mp and 99.89 percent not an mp. Score is 0.00.\n",
      "gb5_R5_2456472_1152_1792.jpg is 0.00 percent an mp and 100.00 percent not an mp. Score is 0.00.\n",
      "gb5_R5_2456472_1664_1792.jpg is 0.00 percent an mp and 100.00 percent not an mp. Score is 0.00.\n",
      "gb5_R5_2456472_0_1920.jpg is 0.00 percent an mp and 100.00 percent not an mp. Score is 0.00.\n",
      "gb5_R5_2456472_1152_1920.jpg is 0.00 percent an mp and 100.00 percent not an mp. Score is 0.00.\n",
      "gb5_R5_2456472_1664_1920.jpg is 0.00 percent an mp and 100.00 percent not an mp. Score is 0.00.\n",
      "gb5_R5_2456472_0_2048.jpg is 0.00 percent an mp and 100.00 percent not an mp. Score is 0.00.\n",
      "gb5_R5_2456472_640_2048.jpg is 0.00 percent an mp and 100.00 percent not an mp. Score is 0.00.\n",
      "gb5_R5_2456472_1664_2048.jpg is 0.00 percent an mp and 100.00 percent not an mp. Score is 0.00.\n",
      "gb5_R5_2456472_0_2176.jpg is 99.99 percent an mp and 0.01 percent not an mp. Score is 1.00.\n",
      "gb5_R5_2456472_640_2176.jpg is 0.00 percent an mp and 100.00 percent not an mp. Score is 0.00.\n",
      "gb5_R5_2456472_1664_2176.jpg is 0.03 percent an mp and 99.97 percent not an mp. Score is 0.00.\n",
      "gb5_R5_2456472_0_2304.jpg is 0.01 percent an mp and 99.99 percent not an mp. Score is 0.00.\n",
      "gb5_R5_2456472_640_2304.jpg is 0.00 percent an mp and 100.00 percent not an mp. Score is 0.00.\n",
      "gb5_R5_2456472_768_2304.jpg is 0.03 percent an mp and 99.97 percent not an mp. Score is 0.00.\n",
      "gb5_R5_2456472_1664_2304.jpg is 0.00 percent an mp and 100.00 percent not an mp. Score is 0.00.\n",
      "gb5_R5_2456472_1920_2304.jpg is 0.00 percent an mp and 100.00 percent not an mp. Score is 0.00.\n",
      "gb5_R5_2456472_640_2432.jpg is 0.00 percent an mp and 100.00 percent not an mp. Score is 0.00.\n",
      "gb5_R5_2456472_768_2432.jpg is 0.00 percent an mp and 100.00 percent not an mp. Score is 0.00.\n",
      "gb5_R5_2456472_896_2432.jpg is 99.65 percent an mp and 0.35 percent not an mp. Score is 1.00.\n",
      "gb5_R5_2456472_1664_2432.jpg is 0.00 percent an mp and 100.00 percent not an mp. Score is 0.00.\n",
      "gb5_R5_2456472_1920_2432.jpg is 0.00 percent an mp and 100.00 percent not an mp. Score is 0.00.\n",
      "gb5_R5_2456472_512_2560.jpg is 0.00 percent an mp and 100.00 percent not an mp. Score is 0.00.\n",
      "gb5_R5_2456472_640_2560.jpg is 0.01 percent an mp and 99.99 percent not an mp. Score is 0.00.\n",
      "gb5_R5_2456472_896_2560.jpg is 100.00 percent an mp and 0.00 percent not an mp. Score is 1.00.\n",
      "gb5_R5_2456472_512_2688.jpg is 0.00 percent an mp and 100.00 percent not an mp. Score is 0.00.\n",
      "gb5_R5_2456472_896_2688.jpg is 100.00 percent an mp and 0.00 percent not an mp. Score is 1.00.\n",
      "gb5_R5_2456472_1408_2688.jpg is 2.25 percent an mp and 97.75 percent not an mp. Score is 0.02.\n",
      "gb5_R5_2456472_896_2816.jpg is 36.83 percent an mp and 63.17 percent not an mp. Score is 0.37.\n",
      "gb5_R5_2456472_1024_2816.jpg is 99.99 percent an mp and 0.01 percent not an mp. Score is 1.00.\n",
      "gb5_R5_2456472_1408_2816.jpg is 100.00 percent an mp and 0.00 percent not an mp. Score is 1.00.\n",
      "gb5_R5_2456472_384_2944.jpg is 0.00 percent an mp and 100.00 percent not an mp. Score is 0.00.\n",
      "gb5_R5_2456472_1024_2944.jpg is 25.57 percent an mp and 74.43 percent not an mp. Score is 0.26.\n",
      "gb5_R5_2456472_1408_2944.jpg is 100.00 percent an mp and 0.00 percent not an mp. Score is 1.00.\n",
      "gb5_R5_2456472_384_3072.jpg is 0.00 percent an mp and 100.00 percent not an mp. Score is 0.00.\n",
      "gb5_R5_2456472_1408_3072.jpg is 100.00 percent an mp and 0.00 percent not an mp. Score is 1.00.\n",
      "gb5_R5_2456472_384_3200.jpg is 0.00 percent an mp and 100.00 percent not an mp. Score is 0.00.\n",
      "gb5_R5_2456472_1408_3200.jpg is 100.00 percent an mp and 0.00 percent not an mp. Score is 1.00.\n",
      "gb5_R5_2456472_384_3328.jpg is 0.00 percent an mp and 100.00 percent not an mp. Score is 0.00.\n",
      "gb5_R5_2456472_1408_3328.jpg is 99.88 percent an mp and 0.12 percent not an mp. Score is 1.00.\n",
      "gb5_R5_2456472_384_3456.jpg is 0.00 percent an mp and 100.00 percent not an mp. Score is 0.00.\n",
      "gb5_R5_2456472_384_3584.jpg is 0.00 percent an mp and 100.00 percent not an mp. Score is 0.00.\n",
      "\n",
      "10 tracklets found and they are in files:\n",
      "gb5_R5_2456472_0_2176.jpg\n",
      "gb5_R5_2456472_896_2432.jpg\n",
      "gb5_R5_2456472_896_2560.jpg\n",
      "gb5_R5_2456472_896_2688.jpg\n",
      "gb5_R5_2456472_1024_2816.jpg\n",
      "gb5_R5_2456472_1408_2816.jpg\n",
      "gb5_R5_2456472_1408_2944.jpg\n",
      "gb5_R5_2456472_1408_3072.jpg\n",
      "gb5_R5_2456472_1408_3200.jpg\n",
      "gb5_R5_2456472_1408_3328.jpg\n"
     ]
    }
   ],
   "source": [
    "#-------------------------------------------------------------------\n",
    "#To make predictions about image files in the given directory\n",
    "#-------------------------------------------------------------------\n",
    "def make_predictions(predict_dir):\n",
    "    count_predicted_tracklets = 0 #counter for number of files predicted to contain a tracklet\n",
    "    predicted_tracklets = [] #filenanes predicted to contain a tracklet\n",
    "\n",
    "    for fname in (glob.glob(predict_dir + \"*.jpg\")):\n",
    "        img_path = fname\n",
    "\n",
    "        img = tf.keras.preprocessing.image.load_img(img_path, target_size=(image_size, image_size))\n",
    "        img_array = tf.keras.preprocessing.image.img_to_array(img)\n",
    "        img_array /= 255.0\n",
    "        img_array = tf.expand_dims(img_array, 0)  # Create batch axis\n",
    "\n",
    "        predictions = moa15.predict(img_array)\n",
    "\n",
    "        score = predictions[0]\n",
    "        if (score > 0.5):\n",
    "            count_predicted_tracklets += 1\n",
    "            predicted_tracklets.append(os.path.basename(fname))\n",
    "\n",
    "        print(\"%s is %.2f percent an mp and %.2f percent not an mp. Score is %.2f.\"\n",
    "            % (os.path.basename(img_path), 100 * score, 100 * (1 - score), score))\n",
    "    \n",
    "    return count_predicted_tracklets, predicted_tracklets\n",
    "\n",
    "# Usage\n",
    "predict_dir = r\"/var/nas/all_fields/uniform_tiles/test_predict/\" #files to make predictions on\n",
    "count_predicted_tracklets, predicted_tracklets = make_predictions(predict_dir)\n",
    "print(f\"\\n{count_predicted_tracklets} tracklets found and they are in files:\")\n",
    "for fname in predicted_tracklets:\n",
    "    print(fname)"
   ]
  },
  {
   "cell_type": "code",
   "execution_count": null,
   "metadata": {},
   "outputs": [],
   "source": [
    "#-------------------------------------------------------------------\n",
    "# To fine tune the model with more data\n",
    "#-------------------------------------------------------------------\n",
    "#default learning rate of 0.001 is far too big \n",
    "initial_learning_rate = 0.0001\n",
    "moa12.compile(loss='binary_crossentropy',\n",
    "              optimizer=keras.optimizers.Adam(lr=initial_learning_rate),\n",
    "              metrics=['accuracy'])\n",
    "\n",
    "#various callback can be used, particularly ModelCheckpoint and LearningRateScheduler\n",
    "history = moa12.fit(\n",
    "            train_generator,\n",
    "            epochs=epochs,\n",
    "            validation_data=valid_generator)"
   ]
  }
 ],
 "metadata": {
  "kernelspec": {
   "display_name": "Python 3",
   "language": "python",
   "name": "python3"
  },
  "language_info": {
   "codemirror_mode": {
    "name": "ipython",
    "version": 3
   },
   "file_extension": ".py",
   "mimetype": "text/x-python",
   "name": "python",
   "nbconvert_exporter": "python",
   "pygments_lexer": "ipython3",
   "version": "3.7.7"
  }
 },
 "nbformat": 4,
 "nbformat_minor": 4
}
