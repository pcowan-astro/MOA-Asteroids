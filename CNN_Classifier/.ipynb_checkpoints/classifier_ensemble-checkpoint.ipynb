{
 "cells": [
  {
   "cell_type": "markdown",
   "metadata": {},
   "source": [
    "Setting up the 5 CNN-Based classifiers as an ensemble and using it to make predictions about whether images contain asteroid tracklets. More information in Towards Asteroid Detection in Microlensing Surveys with Deep Learning by Cowan et al."
   ]
  },
  {
   "cell_type": "code",
   "execution_count": 1,
   "metadata": {},
   "outputs": [],
   "source": [
    "import os\n",
    "import numpy as np\n",
    "import pickle\n",
    "from tqdm import tqdm\n",
    "\n",
    "import tensorflow as tf\n",
    "from tensorflow.keras.models import load_model\n",
    "from tensorflow.keras.preprocessing import image\n",
    "\n",
    "import matplotlib.image as mpimg"
   ]
  },
  {
   "cell_type": "code",
   "execution_count": 2,
   "metadata": {},
   "outputs": [],
   "source": [
    "MOA12 = r\"/path_to/MOA_12.h5\"\n",
    "MOA14 = r\"/path_to/MOA_14.h5\"\n",
    "MOA15 = r\"/path_to/MOA_15.h5\"\n",
    "HYBRID_A = r\"/path_to/hybrid_a.h5\"\n",
    "HYBRID_B = r\"/path_to/hybrid_b.h5\"\n",
    "\n",
    "PREDICTION_SAVE_DIR = r\"/save_path/\""
   ]
  },
  {
   "cell_type": "code",
   "execution_count": 4,
   "metadata": {},
   "outputs": [],
   "source": [
    "#-----------------------------------------------------------------------------------------------------------------\n",
    "#ASSEMBLE ENSEMBLE\n",
    "#-----------------------------------------------------------------------------------------------------------------\n",
    "\n",
    "model_moa12 = load_model(MOA12)\n",
    "model_moa14 = load_model(MOA14)\n",
    "model_moa15 = load_model(MOA15)\n",
    "model_hybridA = load_model(HYBRID_A)\n",
    "model_hybridB = load_model(HYBRID_B)\n",
    "\n",
    "ensemble_models = [model_moa12, model_moa14, model_moa15, model_hybridA, model_hybridB]"
   ]
  },
  {
   "cell_type": "code",
   "execution_count": 6,
   "metadata": {},
   "outputs": [
    {
     "name": "stdout",
     "output_type": "stream",
     "text": [
      "2453874_1280_3840.jpg is 100.00 percent an mp and 0.00 percent not an mp. Score is 1.00.\n"
     ]
    }
   ],
   "source": [
    "#------------------------------------------------------------------\n",
    "# MAKE PREDICTIONS USING ENSEMBLE FOR A SINGLE IMAGE.\n",
    "# RETURNS PREDICTION SCORE \n",
    "#------------------------------------------------------------------\n",
    "\n",
    "def make_predictions(img_path):\n",
    "    img = image.load_img(img_path, target_size=(128, 128))\n",
    "    img_array = image.img_to_array(img)\n",
    "    img_array /= 255.0\n",
    "    img_array = tf.expand_dims(img_array, 0) \n",
    "    predictions = []\n",
    "    \n",
    "    #tf prefers this format for calling the ensemble\n",
    "    for model in ensemble_models:\n",
    "        predict_val = model.predict(img_array)\n",
    "        predictions.append(model.predict(img_array))\n",
    "\n",
    "    #result = np.mean(predictions) # result is the average of all predictions (fewer false positives)\n",
    "    result = np.max(predictions) # result is the highest value prediction (fewer false negatives)\n",
    "\n",
    "    return result\n",
    "    \n",
    "# TEST SCRIPT\n",
    "test_img = r\"/home/pcowan/Code/Asteroid-Detection/DeepLearning/Classify_128/WithData2/2453874_1280_3840.jpg\"\n",
    "score = make_predictions(test_img)\n",
    "print(\"%s is %.2f percent an mp and %.2f percent not an mp. Score is %.2f.\"\n",
    "        % (os.path.basename(test_img), 100 * score, 100 * (1 - score),score))    "
   ]
  },
  {
   "cell_type": "code",
   "execution_count": null,
   "metadata": {},
   "outputs": [],
   "source": [
    "#-----------------------------------------------------------------------\n",
    "# MAKE PREDICTIONS USING ENSEMBLE FOR A LIST OF FILES AND SAVE RESULT\n",
    "#-----------------------------------------------------------------------\n",
    "\n",
    "def predict_group(flist, save_name):\n",
    "    yes_tracklet = []\n",
    "    no_tracklet = []\n",
    "\n",
    "    for fname in tqdm(flist):\n",
    "        score = make_predictions(fname)\n",
    "    \n",
    "        if (score > 0.5):\n",
    "            yes_tracklet.append(fname)\n",
    "        else:\n",
    "            no_tracklet.append(fname)\n",
    "\n",
    "    print(\"%d images from %s classified as having a tracklet.\" % (len(yes_tracklet), save_name))\n",
    "    print(\"%d images from %s classified as not having a tracklet.\" % (len(no_tracklet), save_name))\n",
    "    \n",
    "    yes_save = PREDICTION_SAVE_DIR + \"yes/\" + save_name + \"_yes.dat\"\n",
    "    no_save = PREDICTION_SAVE_DIR +  \"no/\" + save_name + \"_no.dat\"\n",
    "\n",
    "    with open(yes_save, 'wb') as yesfile:\n",
    "        pickle.dump(yes_tracklet, yesfile)\n",
    "        \n",
    "    with open(no_save, 'wb') as nofile:\n",
    "        pickle.dump(no_tracklet, nofile)"
   ]
  },
  {
   "cell_type": "code",
   "execution_count": null,
   "metadata": {},
   "outputs": [],
   "source": []
  }
 ],
 "metadata": {
  "kernelspec": {
   "display_name": "Python 3",
   "language": "python",
   "name": "python3"
  },
  "language_info": {
   "codemirror_mode": {
    "name": "ipython",
    "version": 3
   },
   "file_extension": ".py",
   "mimetype": "text/x-python",
   "name": "python",
   "nbconvert_exporter": "python",
   "pygments_lexer": "ipython3",
   "version": "3.7.7"
  },
  "vscode": {
   "interpreter": {
    "hash": "c2aabd20834d7f9cacff70ae48556baaabe17a7c2ccf0de811366e2bf39de13a"
   }
  }
 },
 "nbformat": 4,
 "nbformat_minor": 4
}
